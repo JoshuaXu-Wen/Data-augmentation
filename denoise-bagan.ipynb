{
 "cells": [
  {
   "cell_type": "code",
   "execution_count": 1,
   "id": "56f476d2",
   "metadata": {
    "_cell_guid": "b1076dfc-b9ad-4769-8c92-a6c4dae69d19",
    "_uuid": "8f2839f25d086af736a60e9eeb907d3b93b6e0e5",
    "execution": {
     "iopub.execute_input": "2021-11-03T12:42:02.236229Z",
     "iopub.status.busy": "2021-11-03T12:42:02.235461Z",
     "iopub.status.idle": "2021-11-03T12:42:02.256301Z",
     "shell.execute_reply": "2021-11-03T12:42:02.257206Z",
     "shell.execute_reply.started": "2021-11-03T12:00:36.412291Z"
    },
    "papermill": {
     "duration": 0.064605,
     "end_time": "2021-11-03T12:42:02.257610",
     "exception": false,
     "start_time": "2021-11-03T12:42:02.193005",
     "status": "completed"
    },
    "tags": []
   },
   "outputs": [
    {
     "name": "stdout",
     "output_type": "stream",
     "text": [
      "/kaggle/input/nslkdd/KDDTest+.arff\n",
      "/kaggle/input/nslkdd/KDDTest-21.arff\n",
      "/kaggle/input/nslkdd/KDDTest1.jpg\n",
      "/kaggle/input/nslkdd/KDDTrain+.txt\n",
      "/kaggle/input/nslkdd/KDDTrain+_20Percent.txt\n",
      "/kaggle/input/nslkdd/KDDTest-21.txt\n",
      "/kaggle/input/nslkdd/KDDTest+.txt\n",
      "/kaggle/input/nslkdd/KDDTrain+.arff\n",
      "/kaggle/input/nslkdd/index.html\n",
      "/kaggle/input/nslkdd/KDDTrain+_20Percent.arff\n",
      "/kaggle/input/nslkdd/KDDTrain1.jpg\n",
      "/kaggle/input/nslkdd/nsl-kdd/KDDTest+.arff\n",
      "/kaggle/input/nslkdd/nsl-kdd/KDDTest-21.arff\n",
      "/kaggle/input/nslkdd/nsl-kdd/KDDTest1.jpg\n",
      "/kaggle/input/nslkdd/nsl-kdd/KDDTrain+.txt\n",
      "/kaggle/input/nslkdd/nsl-kdd/KDDTrain+_20Percent.txt\n",
      "/kaggle/input/nslkdd/nsl-kdd/KDDTest-21.txt\n",
      "/kaggle/input/nslkdd/nsl-kdd/KDDTest+.txt\n",
      "/kaggle/input/nslkdd/nsl-kdd/KDDTrain+.arff\n",
      "/kaggle/input/nslkdd/nsl-kdd/index.html\n",
      "/kaggle/input/nslkdd/nsl-kdd/KDDTrain+_20Percent.arff\n",
      "/kaggle/input/nslkdd/nsl-kdd/KDDTrain1.jpg\n"
     ]
    }
   ],
   "source": [
    "# This Python 3 environment comes with many helpful analytics libraries installed\n",
    "# It is defined by the kaggle/python Docker image: https://github.com/kaggle/docker-python\n",
    "# For example, here's several helpful packages to load\n",
    "\n",
    "import numpy as np # linear algebra\n",
    "import pandas as pd # data processing, CSV file I/O (e.g. pd.read_csv)\n",
    "\n",
    "# Input data files are available in the read-only \"../input/\" directory\n",
    "# For example, running this (by clicking run or pressing Shift+Enter) will list all files under the input directory\n",
    "\n",
    "import os\n",
    "for dirname, _, filenames in os.walk('/kaggle/input'):\n",
    "    for filename in filenames:\n",
    "        print(os.path.join(dirname, filename))\n",
    "\n",
    "# You can write up to 20GB to the current directory (/kaggle/working/) that gets preserved as output when you create a version using \"Save & Run All\" \n",
    "# You can also write temporary files to /kaggle/temp/, but they won't be saved outside of the current session"
   ]
  },
  {
   "cell_type": "code",
   "execution_count": 2,
   "id": "a6a7931d",
   "metadata": {
    "execution": {
     "iopub.execute_input": "2021-11-03T12:42:02.329747Z",
     "iopub.status.busy": "2021-11-03T12:42:02.329064Z",
     "iopub.status.idle": "2021-11-03T12:42:09.127454Z",
     "shell.execute_reply": "2021-11-03T12:42:09.126580Z",
     "shell.execute_reply.started": "2021-11-03T12:00:36.445164Z"
    },
    "papermill": {
     "duration": 6.834712,
     "end_time": "2021-11-03T12:42:09.127601",
     "exception": false,
     "start_time": "2021-11-03T12:42:02.292889",
     "status": "completed"
    },
    "tags": []
   },
   "outputs": [],
   "source": [
    "from tensorflow.keras.utils import get_file\n",
    "from zipfile import ZipFile\n",
    "import pandas as pd\n",
    "import numpy as np\n",
    "import matplotlib.pyplot as plt\n",
    "import seaborn as sns\n",
    "%matplotlib inline\n",
    "sns.set_style(\"white\")"
   ]
  },
  {
   "cell_type": "code",
   "execution_count": 3,
   "id": "3eb89539",
   "metadata": {
    "execution": {
     "iopub.execute_input": "2021-11-03T12:42:09.199056Z",
     "iopub.status.busy": "2021-11-03T12:42:09.198358Z",
     "iopub.status.idle": "2021-11-03T12:42:09.200871Z",
     "shell.execute_reply": "2021-11-03T12:42:09.201379Z",
     "shell.execute_reply.started": "2021-11-03T12:00:42.605587Z"
    },
    "papermill": {
     "duration": 0.040756,
     "end_time": "2021-11-03T12:42:09.201547",
     "exception": false,
     "start_time": "2021-11-03T12:42:09.160791",
     "status": "completed"
    },
    "tags": []
   },
   "outputs": [],
   "source": [
    "\n",
    "# try:\n",
    "#     path = get_file('NSL-KDD.zip', origin=\\\n",
    "#                   'http://205.174.165.80/CICDataset/NSL-KDD/Dataset/NSL-KDD.zip')\n",
    "#     print(path)\n",
    "# except:\n",
    "#     print(\"Error downloading\")"
   ]
  },
  {
   "cell_type": "code",
   "execution_count": 4,
   "id": "e68e24c3",
   "metadata": {
    "execution": {
     "iopub.execute_input": "2021-11-03T12:42:09.274222Z",
     "iopub.status.busy": "2021-11-03T12:42:09.273555Z",
     "iopub.status.idle": "2021-11-03T12:42:10.178713Z",
     "shell.execute_reply": "2021-11-03T12:42:10.178113Z",
     "shell.execute_reply.started": "2021-11-03T12:00:42.611097Z"
    },
    "papermill": {
     "duration": 0.944025,
     "end_time": "2021-11-03T12:42:10.178857",
     "exception": false,
     "start_time": "2021-11-03T12:42:09.234832",
     "status": "completed"
    },
    "tags": []
   },
   "outputs": [],
   "source": [
    "filespath = \"/kaggle/input/nslkdd/\"\n",
    "df_train = pd.read_csv(filepath_or_buffer=filespath+'KDDTrain+.txt',delimiter=',', header=None)\n",
    "df_test = pd.read_csv(filepath_or_buffer=filespath+'KDDTest+.txt',delimiter=',', header=None)"
   ]
  },
  {
   "cell_type": "code",
   "execution_count": 5,
   "id": "f440bdad",
   "metadata": {
    "execution": {
     "iopub.execute_input": "2021-11-03T12:42:10.255023Z",
     "iopub.status.busy": "2021-11-03T12:42:10.253961Z",
     "iopub.status.idle": "2021-11-03T12:42:10.257063Z",
     "shell.execute_reply": "2021-11-03T12:42:10.257587Z",
     "shell.execute_reply.started": "2021-11-03T12:00:43.353346Z"
    },
    "papermill": {
     "duration": 0.045238,
     "end_time": "2021-11-03T12:42:10.257801",
     "exception": false,
     "start_time": "2021-11-03T12:42:10.212563",
     "status": "completed"
    },
    "tags": []
   },
   "outputs": [
    {
     "name": "stdout",
     "output_type": "stream",
     "text": [
      "df_train.shape = (125973, 43)\n",
      "df_test.shape = (22544, 43)\n"
     ]
    }
   ],
   "source": [
    "# The CSV file has no column heads, so add them\n",
    "df_train.columns = [\n",
    "    'duration',\n",
    "    'protocol_type',\n",
    "    'service',\n",
    "    'flag',\n",
    "    'src_bytes',\n",
    "    'dst_bytes',\n",
    "    'land',\n",
    "    'wrong_fragment',\n",
    "    'urgent',\n",
    "    'hot',\n",
    "    'num_failed_logins',\n",
    "    'logged_in',\n",
    "    'num_compromised',\n",
    "    'root_shell',\n",
    "    'su_attempted',\n",
    "    'num_root',\n",
    "    'num_file_creations',\n",
    "    'num_shells',\n",
    "    'num_access_files',\n",
    "    'num_outbound_cmds',\n",
    "    'is_host_login',\n",
    "    'is_guest_login',\n",
    "    'count',\n",
    "    'srv_count',\n",
    "    'serror_rate',\n",
    "    'srv_serror_rate',\n",
    "    'rerror_rate',\n",
    "    'srv_rerror_rate',\n",
    "    'same_srv_rate',\n",
    "    'diff_srv_rate',\n",
    "    'srv_diff_host_rate',\n",
    "    'dst_host_count',\n",
    "    'dst_host_srv_count',\n",
    "    'dst_host_same_srv_rate',\n",
    "    'dst_host_diff_srv_rate',\n",
    "    'dst_host_same_src_port_rate',\n",
    "    'dst_host_srv_diff_host_rate',\n",
    "    'dst_host_serror_rate',\n",
    "    'dst_host_srv_serror_rate',\n",
    "    'dst_host_rerror_rate',\n",
    "    'dst_host_srv_rerror_rate',\n",
    "    'outcome',\n",
    "    'difficulty'\n",
    "]\n",
    "df_test.columns = df_train.columns\n",
    "print(f\"df_train.shape = {df_train.shape}\")\n",
    "print(f\"df_test.shape = {df_test.shape}\")"
   ]
  },
  {
   "cell_type": "code",
   "execution_count": 6,
   "id": "f44f32a4",
   "metadata": {
    "execution": {
     "iopub.execute_input": "2021-11-03T12:42:10.332190Z",
     "iopub.status.busy": "2021-11-03T12:42:10.331237Z",
     "iopub.status.idle": "2021-11-03T12:42:10.334181Z",
     "shell.execute_reply": "2021-11-03T12:42:10.333613Z",
     "shell.execute_reply.started": "2021-11-03T12:00:43.362385Z"
    },
    "papermill": {
     "duration": 0.042894,
     "end_time": "2021-11-03T12:42:10.334319",
     "exception": false,
     "start_time": "2021-11-03T12:42:10.291425",
     "status": "completed"
    },
    "tags": []
   },
   "outputs": [],
   "source": [
    "class_DoS = ['apache2', 'back', 'land', 'neptune', 'mailbomb', 'pod', \n",
    "             'processtable', 'smurf', 'teardrop', 'udpstorm', 'worm']\n",
    "class_Probe = ['ipsweep', 'mscan', 'nmap', 'portsweep', 'saint', 'satan']\n",
    "\n",
    "class_U2R = ['buffer_overflow', 'loadmodule', 'perl', 'ps', 'rootkit', 'sqlattack', 'xterm']\n",
    "\n",
    "class_R2L = ['ftp_write', 'guess_passwd', 'httptunnel',  'imap', 'multihop', 'named', \n",
    "             'phf', 'sendmail', 'snmpgetattack', 'spy', 'snmpguess', 'warezclient', \n",
    "             'warezmaster', 'xlock', 'xsnoop']"
   ]
  },
  {
   "cell_type": "code",
   "execution_count": 7,
   "id": "e27f1e8c",
   "metadata": {
    "execution": {
     "iopub.execute_input": "2021-11-03T12:42:10.406624Z",
     "iopub.status.busy": "2021-11-03T12:42:10.405986Z",
     "iopub.status.idle": "2021-11-03T12:42:10.809951Z",
     "shell.execute_reply": "2021-11-03T12:42:10.809040Z",
     "shell.execute_reply.started": "2021-11-03T12:00:43.378361Z"
    },
    "papermill": {
     "duration": 0.44229,
     "end_time": "2021-11-03T12:42:10.810127",
     "exception": false,
     "start_time": "2021-11-03T12:42:10.367837",
     "status": "completed"
    },
    "tags": []
   },
   "outputs": [
    {
     "name": "stdout",
     "output_type": "stream",
     "text": [
      "['normal' 'DoS' 'R2L' 'Probe' 'U2R']\n"
     ]
    },
    {
     "data": {
      "text/plain": [
       "5"
      ]
     },
     "execution_count": 7,
     "metadata": {},
     "output_type": "execute_result"
    }
   ],
   "source": [
    "df_train['class'] = df_train['outcome']\n",
    "df_train['class'].replace(class_DoS, value='DoS', inplace=True)\n",
    "df_train['class'].replace(class_Probe, value='Probe',inplace=True)\n",
    "df_train['class'].replace(class_U2R, value='U2R',inplace=True)\n",
    "df_train['class'].replace(class_R2L, value='R2L', inplace=True)\n",
    "print(df_train['class'].unique())\n",
    "\n",
    "labels={\"normal\": 0, \"DoS\": 1, \"Probe\": 2, \"U2R\": 3, \"R2L\":4}\n",
    "df_train['label'] = df_train['class'].replace(labels)\n",
    "df_train['label'].nunique()"
   ]
  },
  {
   "cell_type": "code",
   "execution_count": 8,
   "id": "697dfaf5",
   "metadata": {
    "execution": {
     "iopub.execute_input": "2021-11-03T12:42:10.893976Z",
     "iopub.status.busy": "2021-11-03T12:42:10.891518Z",
     "iopub.status.idle": "2021-11-03T12:42:10.969575Z",
     "shell.execute_reply": "2021-11-03T12:42:10.970307Z",
     "shell.execute_reply.started": "2021-11-03T12:00:43.595616Z"
    },
    "papermill": {
     "duration": 0.125966,
     "end_time": "2021-11-03T12:42:10.970546",
     "exception": false,
     "start_time": "2021-11-03T12:42:10.844580",
     "status": "completed"
    },
    "tags": []
   },
   "outputs": [
    {
     "name": "stdout",
     "output_type": "stream",
     "text": [
      "['DoS' 'normal' 'Probe' 'R2L' 'U2R']\n"
     ]
    },
    {
     "data": {
      "text/plain": [
       "5"
      ]
     },
     "execution_count": 8,
     "metadata": {},
     "output_type": "execute_result"
    }
   ],
   "source": [
    "df_test['class'] = df_test['outcome']\n",
    "df_test['class'].replace(class_DoS, value='DoS', inplace=True)\n",
    "df_test['class'].replace(class_Probe, value='Probe',inplace=True)\n",
    "df_test['class'].replace(class_U2R, value='U2R',inplace=True)\n",
    "df_test['class'].replace(class_R2L, value='R2L', inplace=True)\n",
    "print(df_test['class'].unique())\n",
    "df_test['label'] = df_test['class'].replace(labels)\n",
    "df_test['label'].nunique()"
   ]
  },
  {
   "cell_type": "code",
   "execution_count": 9,
   "id": "3c8fac28",
   "metadata": {
    "execution": {
     "iopub.execute_input": "2021-11-03T12:42:11.065210Z",
     "iopub.status.busy": "2021-11-03T12:42:11.064336Z",
     "iopub.status.idle": "2021-11-03T12:42:11.226491Z",
     "shell.execute_reply": "2021-11-03T12:42:11.225880Z",
     "shell.execute_reply.started": "2021-11-03T12:00:43.649554Z"
    },
    "papermill": {
     "duration": 0.220533,
     "end_time": "2021-11-03T12:42:11.226627",
     "exception": false,
     "start_time": "2021-11-03T12:42:11.006094",
     "status": "completed"
    },
    "tags": []
   },
   "outputs": [
    {
     "name": "stdout",
     "output_type": "stream",
     "text": [
      "U2R          52\n",
      "DoS       45927\n",
      "R2L         995\n",
      "normal    67343\n",
      "Probe     11656\n",
      "Name: class, dtype: int64\n"
     ]
    },
    {
     "data": {
      "image/png": "[encoded data removed]",
      "text/plain": [
       "<Figure size 720x432 with 1 Axes>"
      ]
     },
     "metadata": {},
     "output_type": "display_data"
    }
   ],
   "source": [
    "pie, ax = plt.subplots(figsize=[10,6])\n",
    "class_data = df_train['class'].value_counts().sample(frac=1.0)\n",
    "print(class_data)\n",
    "\n",
    "ax.pie(x=class_data, labels=class_data.keys(), explode=[0.07]*5, pctdistance=0.4, autopct=\"%.1f%%\")\n",
    "ax.set_title(\"Attack Types in NSL-KDD Training set\", fontdict={'fontsize': 14})\n",
    "plt.show()"
   ]
  },
  {
   "cell_type": "markdown",
   "id": "198fe433",
   "metadata": {
    "papermill": {
     "duration": 0.036333,
     "end_time": "2021-11-03T12:42:11.300074",
     "exception": false,
     "start_time": "2021-11-03T12:42:11.263741",
     "status": "completed"
    },
    "tags": []
   },
   "source": [
    "# Data Preprocessing"
   ]
  },
  {
   "cell_type": "code",
   "execution_count": 10,
   "id": "88dabac8",
   "metadata": {
    "execution": {
     "iopub.execute_input": "2021-11-03T12:42:11.391633Z",
     "iopub.status.busy": "2021-11-03T12:42:11.390940Z",
     "iopub.status.idle": "2021-11-03T12:42:11.444577Z",
     "shell.execute_reply": "2021-11-03T12:42:11.445595Z",
     "shell.execute_reply.started": "2021-11-03T12:00:43.807158Z"
    },
    "papermill": {
     "duration": 0.109438,
     "end_time": "2021-11-03T12:42:11.445914",
     "exception": false,
     "start_time": "2021-11-03T12:42:11.336476",
     "status": "completed"
    },
    "tags": []
   },
   "outputs": [
    {
     "name": "stdout",
     "output_type": "stream",
     "text": [
      "shape of numeric features: (125973, 38)\n",
      "shape of object features: (125973, 3)\n",
      "shape of numeric features: (22544, 38)\n",
      "shape of object features: (22544, 3)\n"
     ]
    }
   ],
   "source": [
    "df_train_obj = df_train.iloc[:, :-4].select_dtypes(include='object')\n",
    "df_train_num = df_train.iloc[:, :-4].select_dtypes(exclude='object')\n",
    "df_test_obj = df_test.iloc[:, :-4].select_dtypes(include='object')\n",
    "df_test_num = df_test.iloc[:, :-4].select_dtypes(exclude='object')\n",
    "\n",
    "print(f\"shape of numeric features: {df_train_num.shape}\")\n",
    "print(f\"shape of object features: {df_train_obj.shape}\")\n",
    "print(f\"shape of numeric features: {df_test_num.shape}\")\n",
    "print(f\"shape of object features: {df_test_obj.shape}\")"
   ]
  },
  {
   "cell_type": "markdown",
   "id": "e550d82e",
   "metadata": {
    "papermill": {
     "duration": 0.036579,
     "end_time": "2021-11-03T12:42:11.521195",
     "exception": false,
     "start_time": "2021-11-03T12:42:11.484616",
     "status": "completed"
    },
    "tags": []
   },
   "source": [
    "## data normalization"
   ]
  },
  {
   "cell_type": "code",
   "execution_count": 11,
   "id": "dc75db0f",
   "metadata": {
    "execution": {
     "iopub.execute_input": "2021-11-03T12:42:11.768416Z",
     "iopub.status.busy": "2021-11-03T12:42:11.598463Z",
     "iopub.status.idle": "2021-11-03T12:42:12.493508Z",
     "shell.execute_reply": "2021-11-03T12:42:12.492848Z",
     "shell.execute_reply.started": "2021-11-03T12:00:43.881149Z"
    },
    "papermill": {
     "duration": 0.93489,
     "end_time": "2021-11-03T12:42:12.493723",
     "exception": false,
     "start_time": "2021-11-03T12:42:11.558833",
     "status": "completed"
    },
    "tags": []
   },
   "outputs": [
    {
     "name": "stdout",
     "output_type": "stream",
     "text": [
      "X_train shape: (125973, 122)\n",
      "X_test shape: (22544, 122)\n",
      "numerical labels: y_train, y_test\n"
     ]
    }
   ],
   "source": [
    "from sklearn.preprocessing import MinMaxScaler, OneHotEncoder\n",
    "enc = OneHotEncoder(handle_unknown='ignore')\n",
    "# df_train_obj = df_train.iloc[:,:-3]\n",
    "df_train_enc = enc.fit_transform(df_train_obj).toarray()\n",
    "train_enc_features = enc.get_feature_names(input_features=df_train_obj.columns)\n",
    "df_test_enc = enc.transform(df_test_obj).toarray()\n",
    "test_enc_features = enc.get_feature_names(input_features=df_test_obj.columns)\n",
    "# print(len(train_enc_features), len(test_enc_features))\n",
    "X_train_enc = np.c_[df_train_num, df_train_enc]\n",
    "X_test_enc = np.c_[df_test_num, df_test_enc]\n",
    "\n",
    "\n",
    "scaler = MinMaxScaler()\n",
    "X_train_scaler = scaler.fit_transform(X_train_enc)\n",
    "X_test_scaler = scaler.transform(X_test_enc)\n",
    "y_train = df_train['label']\n",
    "y_test = df_test['label']\n",
    "print(f\"X_train shape: {X_train_scaler.shape}\")\n",
    "print(f\"X_test shape: {X_test_scaler.shape}\")\n",
    "print(\"numerical labels: y_train, y_test\")\n",
    "# X_train_normal = X_train_scaler[df_train['class']=='normal']\n",
    "# X_train_DoS = X_train_scaler[df_train['class']=='DoS']\n",
    "# X_train_Probe = X_train_scaler[df_train['class']=='Probe']\n",
    "# X_train_U2R = X_train_scaler[df_train['class']=='U2R']\n",
    "# X_train_R2L = X_train_scaler[df_train['class']=='R2L']\n",
    "\n",
    "# X_test_normal = X_test_scaler[df_test['class']=='normal']\n",
    "# X_test_DoS = X_test_scaler[df_test['class']=='DoS']\n",
    "# X_test_Probe = X_test_scaler[df_test['class']=='Probe']\n",
    "# X_test_U2R = X_test_scaler[df_test['class']=='U2R']\n",
    "# X_test_R2L = X_test_scaler[df_test['class']=='R2L']\n",
    "# X_train_bagan = X_train_scaler[df_train['class']!='normal']\n",
    "# y_train_bagan = y_train[df_train['class']!='normal']\n",
    "# y_train_bagan.reset_index(drop=True, inplace=True)\n",
    "# print(f\"X_train_bagan shape: {X_train_bagan.shape}\")\n",
    "X_train = X_train_scaler"
   ]
  },
  {
   "cell_type": "code",
   "execution_count": null,
   "id": "ca497d37",
   "metadata": {
    "papermill": {
     "duration": 0.037245,
     "end_time": "2021-11-03T12:42:12.574161",
     "exception": false,
     "start_time": "2021-11-03T12:42:12.536916",
     "status": "completed"
    },
    "tags": []
   },
   "outputs": [],
   "source": []
  },
  {
   "cell_type": "markdown",
   "id": "19bba703",
   "metadata": {
    "papermill": {
     "duration": 0.036689,
     "end_time": "2021-11-03T12:42:12.648028",
     "exception": false,
     "start_time": "2021-11-03T12:42:12.611339",
     "status": "completed"
    },
    "tags": []
   },
   "source": [
    "# BAGAN Model "
   ]
  },
  {
   "cell_type": "code",
   "execution_count": 12,
   "id": "bfcaf35e",
   "metadata": {
    "execution": {
     "iopub.execute_input": "2021-11-03T12:42:12.730562Z",
     "iopub.status.busy": "2021-11-03T12:42:12.729884Z",
     "iopub.status.idle": "2021-11-03T12:42:12.742510Z",
     "shell.execute_reply": "2021-11-03T12:42:12.743055Z",
     "shell.execute_reply.started": "2021-11-03T12:00:44.653077Z"
    },
    "papermill": {
     "duration": 0.057837,
     "end_time": "2021-11-03T12:42:12.743230",
     "exception": false,
     "start_time": "2021-11-03T12:42:12.685393",
     "status": "completed"
    },
    "tags": []
   },
   "outputs": [],
   "source": [
    "import pandas as pd\n",
    "import numpy as np\n",
    "from tensorflow.keras.utils import get_file\n",
    "from tensorflow.keras import Sequential, Input, Model\n",
    "from tensorflow.keras.layers import Dense, InputLayer\n",
    "from tensorflow.keras.callbacks import EarlyStopping\n",
    "from tensorflow.keras.utils import plot_model\n",
    "from tensorflow.keras.layers import GaussianNoise, Add\n",
    "from tensorflow.keras.optimizers import Adam\n",
    "from sklearn.utils import shuffle\n",
    "from tensorflow.keras.models import load_model\n",
    "from collections import Counter\n",
    "\n",
    "optimizer = Adam(0.001, 0.5)\n",
    "instance_shape = 122\n",
    "latent_dim = 10\n",
    "# n_classes = 4"
   ]
  },
  {
   "cell_type": "code",
   "execution_count": 13,
   "id": "81cc1a31",
   "metadata": {
    "execution": {
     "iopub.execute_input": "2021-11-03T12:42:12.821268Z",
     "iopub.status.busy": "2021-11-03T12:42:12.820257Z",
     "iopub.status.idle": "2021-11-03T12:42:12.989878Z",
     "shell.execute_reply": "2021-11-03T12:42:12.990395Z",
     "shell.execute_reply.started": "2021-11-03T12:00:44.671105Z"
    },
    "papermill": {
     "duration": 0.210223,
     "end_time": "2021-11-03T12:42:12.990567",
     "exception": false,
     "start_time": "2021-11-03T12:42:12.780344",
     "status": "completed"
    },
    "tags": []
   },
   "outputs": [
    {
     "name": "stdout",
     "output_type": "stream",
     "text": [
      "Model: \"sequential\"\n",
      "_________________________________________________________________\n",
      "Layer (type)                 Output Shape              Param #   \n",
      "=================================================================\n",
      "model (Sequential)           (None, 10)                4266      \n",
      "_________________________________________________________________\n",
      "decoder (Sequential)         (None, 122)               4378      \n",
      "=================================================================\n",
      "Total params: 8,644\n",
      "Trainable params: 8,644\n",
      "Non-trainable params: 0\n",
      "_________________________________________________________________\n"
     ]
    },
    {
     "name": "stderr",
     "output_type": "stream",
     "text": [
      "\n",
      "User settings:\n",
      "\n",
      "   KMP_AFFINITY=granularity=fine,verbose,compact,1,0\n",
      "   KMP_BLOCKTIME=0\n",
      "   KMP_DUPLICATE_LIB_OK=True\n",
      "   KMP_INIT_AT_FORK=FALSE\n",
      "   KMP_SETTINGS=1\n",
      "   KMP_WARNINGS=0\n",
      "\n",
      "Effective settings:\n",
      "\n",
      "   KMP_ABORT_DELAY=0\n",
      "   KMP_ADAPTIVE_LOCK_PROPS='1,1024'\n",
      "   KMP_ALIGN_ALLOC=64\n",
      "   KMP_ALL_THREADPRIVATE=128\n",
      "   KMP_ATOMIC_MODE=2\n",
      "   KMP_BLOCKTIME=0\n",
      "   KMP_CPUINFO_FILE: value is not defined\n",
      "   KMP_DETERMINISTIC_REDUCTION=false\n",
      "   KMP_DEVICE_THREAD_LIMIT=2147483647\n",
      "   KMP_DISP_NUM_BUFFERS=7\n",
      "   KMP_DUPLICATE_LIB_OK=true\n",
      "   KMP_ENABLE_TASK_THROTTLING=true\n",
      "   KMP_FORCE_REDUCTION: value is not defined\n",
      "   KMP_FOREIGN_THREADS_THREADPRIVATE=true\n",
      "   KMP_FORKJOIN_BARRIER='2,2'\n",
      "   KMP_FORKJOIN_BARRIER_PATTERN='hyper,hyper'\n",
      "   KMP_GTID_MODE=3\n",
      "   KMP_HANDLE_SIGNALS=false\n",
      "   KMP_HOT_TEAMS_MAX_LEVEL=1\n",
      "   KMP_HOT_TEAMS_MODE=0\n",
      "   KMP_INIT_AT_FORK=true\n",
      "   KMP_LIBRARY=throughput\n",
      "   KMP_LOCK_KIND=queuing\n",
      "   KMP_MALLOC_POOL_INCR=1M\n",
      "   KMP_NUM_LOCKS_IN_BLOCK=1\n",
      "   KMP_PLAIN_BARRIER='2,2'\n",
      "   KMP_PLAIN_BARRIER_PATTERN='hyper,hyper'\n",
      "   KMP_REDUCTION_BARRIER='1,1'\n",
      "   KMP_REDUCTION_BARRIER_PATTERN='hyper,hyper'\n",
      "   KMP_SCHEDULE='static,balanced;guided,iterative'\n",
      "   KMP_SETTINGS=true\n",
      "   KMP_SPIN_BACKOFF_PARAMS='4096,100'\n",
      "   KMP_STACKOFFSET=64\n",
      "   KMP_STACKPAD=0\n",
      "   KMP_STACKSIZE=8M\n",
      "   KMP_STORAGE_MAP=false\n",
      "   KMP_TASKING=2\n",
      "   KMP_TASKLOOP_MIN_TASKS=0\n",
      "   KMP_TASK_STEALING_CONSTRAINT=1\n",
      "   KMP_TEAMS_THREAD_LIMIT=4\n",
      "   KMP_TOPOLOGY_METHOD=all\n",
      "   KMP_USE_YIELD=1\n",
      "   KMP_VERSION=false\n",
      "   KMP_WARNINGS=false\n",
      "   OMP_AFFINITY_FORMAT='OMP: pid %P tid %i thread %n bound to OS proc set {%A}'\n",
      "   OMP_ALLOCATOR=omp_default_mem_alloc\n",
      "   OMP_CANCELLATION=false\n",
      "   OMP_DEFAULT_DEVICE=0\n",
      "   OMP_DISPLAY_AFFINITY=false\n",
      "   OMP_DISPLAY_ENV=false\n",
      "   OMP_DYNAMIC=false\n",
      "   OMP_MAX_ACTIVE_LEVELS=1\n",
      "   OMP_MAX_TASK_PRIORITY=0\n",
      "   OMP_NESTED: deprecated; max-active-levels-var=1\n",
      "   OMP_NUM_THREADS: value is not defined\n",
      "   OMP_PLACES: value is not defined\n",
      "   OMP_PROC_BIND='intel'\n",
      "   OMP_SCHEDULE='static'\n",
      "   OMP_STACKSIZE=8M\n",
      "   OMP_TARGET_OFFLOAD=DEFAULT\n",
      "   OMP_THREAD_LIMIT=2147483647\n",
      "   OMP_WAIT_POLICY=PASSIVE\n",
      "   KMP_AFFINITY='verbose,warnings,respect,granularity=fine,compact,1,0'\n",
      "\n",
      "2021-11-03 12:42:12.859304: I tensorflow/core/common_runtime/process_util.cc:146] Creating new thread pool with default inter op setting: 2. Tune using inter_op_parallelism_threads for best performance.\n"
     ]
    }
   ],
   "source": [
    "### hyper-parameters ###\n",
    "latend_dim = 10 ## constant\n",
    "input_dim = X_train.shape[1] # 122\n",
    "batch_size = 64\n",
    "\n",
    "### encoder ###\n",
    "'''noise is added as inputlayer, not through a GaussianNoise layer.\n",
    "In this way, even the same original input will product different noisy Input. \n",
    "GaussianNoise is fixed to generate the same result from the same input.\n",
    "'''\n",
    "encoder = Sequential(name='model')\n",
    "encoder.add(Input(shape=(input_dim,), name=\"original_input\"))\n",
    "# encoder.add(GaussianNoise(0.2))\n",
    "encoder.add(Dense(32, activation='relu', input_shape=(input_dim, )))\n",
    "encoder.add(Dense(latend_dim, activation='relu'))\n",
    "\n",
    "\n",
    "### decoder ###\n",
    "decoder = Sequential(name='decoder')\n",
    "decoder.add(Input(shape=(latend_dim,), name=\"deconder_input\"))\n",
    "decoder.add(Dense(32, activation='relu'))\n",
    "decoder.add(Dense(input_dim, activation='sigmoid'))\n",
    "\n",
    "### autoencoder ###\n",
    "autoencoder = Sequential([\n",
    "    encoder, \n",
    "    decoder\n",
    "])\n",
    "\n",
    "autoencoder.compile(loss='mse', optimizer='Adam')\n",
    "autoencoder.summary()"
   ]
  },
  {
   "cell_type": "code",
   "execution_count": 14,
   "id": "9c1583f9",
   "metadata": {
    "execution": {
     "iopub.execute_input": "2021-11-03T12:42:13.073293Z",
     "iopub.status.busy": "2021-11-03T12:42:13.072336Z",
     "iopub.status.idle": "2021-11-03T12:43:39.399815Z",
     "shell.execute_reply": "2021-11-03T12:43:39.400656Z",
     "shell.execute_reply.started": "2021-11-03T12:00:44.821656Z"
    },
    "papermill": {
     "duration": 86.372045,
     "end_time": "2021-11-03T12:43:39.400985",
     "exception": false,
     "start_time": "2021-11-03T12:42:13.028940",
     "status": "completed"
    },
    "tags": []
   },
   "outputs": [
    {
     "name": "stderr",
     "output_type": "stream",
     "text": [
      "2021-11-03 12:42:13.289377: I tensorflow/compiler/mlir/mlir_graph_optimization_pass.cc:185] None of the MLIR Optimization Passes are enabled (registered 2)\n"
     ]
    },
    {
     "name": "stdout",
     "output_type": "stream",
     "text": [
      "Epoch 1/20\n",
      "1575/1575 [==============================] - 5s 3ms/step - loss: 0.0164 - val_loss: 0.0040\n",
      "Epoch 2/20\n",
      "1575/1575 [==============================] - 4s 3ms/step - loss: 0.0034 - val_loss: 0.0030\n",
      "Epoch 3/20\n",
      "1575/1575 [==============================] - 4s 3ms/step - loss: 0.0027 - val_loss: 0.0024\n",
      "Epoch 4/20\n",
      "1575/1575 [==============================] - 4s 3ms/step - loss: 0.0021 - val_loss: 0.0019\n",
      "Epoch 5/20\n",
      "1575/1575 [==============================] - 4s 3ms/step - loss: 0.0017 - val_loss: 0.0015\n",
      "Epoch 6/20\n",
      "1575/1575 [==============================] - 5s 3ms/step - loss: 0.0014 - val_loss: 0.0014\n",
      "Epoch 7/20\n",
      "1575/1575 [==============================] - 4s 3ms/step - loss: 0.0013 - val_loss: 0.0013\n",
      "Epoch 8/20\n",
      "1575/1575 [==============================] - 4s 3ms/step - loss: 0.0013 - val_loss: 0.0012\n",
      "Epoch 9/20\n",
      "1575/1575 [==============================] - 4s 3ms/step - loss: 0.0012 - val_loss: 0.0012\n",
      "Epoch 10/20\n",
      "1575/1575 [==============================] - 4s 3ms/step - loss: 0.0012 - val_loss: 0.0011\n",
      "Epoch 11/20\n",
      "1575/1575 [==============================] - 5s 3ms/step - loss: 0.0011 - val_loss: 0.0011\n",
      "Epoch 12/20\n",
      "1575/1575 [==============================] - 4s 3ms/step - loss: 0.0011 - val_loss: 0.0011\n",
      "Epoch 13/20\n",
      "1575/1575 [==============================] - 5s 3ms/step - loss: 0.0011 - val_loss: 0.0010\n",
      "Epoch 14/20\n",
      "1575/1575 [==============================] - 4s 3ms/step - loss: 0.0010 - val_loss: 0.0010\n",
      "Epoch 15/20\n",
      "1575/1575 [==============================] - 4s 3ms/step - loss: 0.0010 - val_loss: 0.0010\n",
      "Epoch 16/20\n",
      "1575/1575 [==============================] - 4s 3ms/step - loss: 9.9045e-04 - val_loss: 9.8718e-04\n",
      "Epoch 17/20\n",
      "1575/1575 [==============================] - 4s 3ms/step - loss: 9.7608e-04 - val_loss: 9.7035e-04\n",
      "Epoch 18/20\n",
      "1575/1575 [==============================] - 4s 3ms/step - loss: 9.6382e-04 - val_loss: 9.6661e-04\n",
      "Epoch 19/20\n",
      "1575/1575 [==============================] - 4s 3ms/step - loss: 9.5384e-04 - val_loss: 9.5335e-04\n",
      "Epoch 20/20\n",
      "1575/1575 [==============================] - 4s 3ms/step - loss: 9.4470e-04 - val_loss: 9.4588e-04\n"
     ]
    }
   ],
   "source": [
    "history = autoencoder.fit(X_train, X_train, \n",
    "                          batch_size=batch_size, epochs=20, validation_split=0.2)"
   ]
  },
  {
   "cell_type": "code",
   "execution_count": 15,
   "id": "815da55b",
   "metadata": {
    "execution": {
     "iopub.execute_input": "2021-11-03T12:43:40.379279Z",
     "iopub.status.busy": "2021-11-03T12:43:40.378298Z",
     "iopub.status.idle": "2021-11-03T12:43:40.384951Z",
     "shell.execute_reply": "2021-11-03T12:43:40.384001Z",
     "shell.execute_reply.started": "2021-11-03T12:02:01.935955Z"
    },
    "papermill": {
     "duration": 0.49719,
     "end_time": "2021-11-03T12:43:40.385175",
     "exception": false,
     "start_time": "2021-11-03T12:43:39.887985",
     "status": "completed"
    },
    "tags": []
   },
   "outputs": [],
   "source": [
    "# '''\n",
    "# generate noisy samples by adding guassian noise to original samples\n",
    "# '''\n",
    "# def noisyInput(X):\n",
    "# #     noise = np.random.normal(loc=0.0, scale=1.0, size=X.shape)\n",
    "# #     noisy_input = np.add(X, noise)\n",
    "#     noise_factor = 0.4\n",
    "#     noisy_input = X + noise_factor * np.random.normal(\n",
    "#         loc=0.0, scale=1.0, size=X.shape\n",
    "#     )\n",
    "#     return np.clip(noisy_input, 0.0, 1.0)\n",
    "\n",
    "# ae_noisy_input = noisyInput(X_train_bagan)\n",
    "# history = autoencoder.fit(ae_noisy_input, X_train_bagan, \n",
    "#                           batch_size=batch_size, epochs=20, validation_split=0.2)"
   ]
  },
  {
   "cell_type": "code",
   "execution_count": 16,
   "id": "59e67974",
   "metadata": {
    "execution": {
     "iopub.execute_input": "2021-11-03T12:43:41.365267Z",
     "iopub.status.busy": "2021-11-03T12:43:41.364642Z",
     "iopub.status.idle": "2021-11-03T12:43:42.313264Z",
     "shell.execute_reply": "2021-11-03T12:43:42.313954Z",
     "shell.execute_reply.started": "2021-11-03T12:02:01.941559Z"
    },
    "papermill": {
     "duration": 1.438819,
     "end_time": "2021-11-03T12:43:42.314137",
     "exception": false,
     "start_time": "2021-11-03T12:43:40.875318",
     "status": "completed"
    },
    "tags": []
   },
   "outputs": [
    {
     "name": "stderr",
     "output_type": "stream",
     "text": [
      "2021-11-03 12:43:41.624052: W tensorflow/python/util/util.cc:348] Sets are not currently considered sequences, but this may change in the future, so consider avoiding using them.\n"
     ]
    }
   ],
   "source": [
    "encoder.save('pre-train-encoder')\n",
    "decoder.save('pre-train-decoder')"
   ]
  },
  {
   "cell_type": "markdown",
   "id": "74bf6351",
   "metadata": {
    "papermill": {
     "duration": 0.486858,
     "end_time": "2021-11-03T12:43:43.335065",
     "exception": false,
     "start_time": "2021-11-03T12:43:42.848207",
     "status": "completed"
    },
    "tags": []
   },
   "source": [
    "### Build Discriminator"
   ]
  },
  {
   "cell_type": "code",
   "execution_count": 17,
   "id": "45e3f985",
   "metadata": {
    "execution": {
     "iopub.execute_input": "2021-11-03T12:43:44.308572Z",
     "iopub.status.busy": "2021-11-03T12:43:44.307922Z",
     "iopub.status.idle": "2021-11-03T12:43:44.499081Z",
     "shell.execute_reply": "2021-11-03T12:43:44.498268Z",
     "shell.execute_reply.started": "2021-11-03T12:02:02.768750Z"
    },
    "papermill": {
     "duration": 0.680123,
     "end_time": "2021-11-03T12:43:44.499280",
     "exception": false,
     "start_time": "2021-11-03T12:43:43.819157",
     "status": "completed"
    },
    "tags": []
   },
   "outputs": [
    {
     "name": "stdout",
     "output_type": "stream",
     "text": [
      "Model: \"discriminator\"\n",
      "_________________________________________________________________\n",
      "Layer (type)                 Output Shape              Param #   \n",
      "=================================================================\n",
      "input_1 (InputLayer)         [(None, 122)]             0         \n",
      "_________________________________________________________________\n",
      "model (Sequential)           (None, 10)                4266      \n",
      "_________________________________________________________________\n",
      "auxiliary (Dense)            (None, 6)                 66        \n",
      "=================================================================\n",
      "Total params: 4,332\n",
      "Trainable params: 4,332\n",
      "Non-trainable params: 0\n",
      "_________________________________________________________________\n"
     ]
    }
   ],
   "source": [
    "\n",
    "optimizer = Adam(0.002, 0.5)\n",
    "# labels_attacks = {'DoS': 1, 'Probe': 2, 'U2R': 3, 'R2L': 4}\n",
    "# nclasses = len(labels_attacks)\n",
    "nclasses = len(labels)\n",
    "\n",
    "# transfer encoder to discriminator\n",
    "def build_discriminator(nclasses):\n",
    "    interim_encoder = load_model('pre-train-encoder')\n",
    "    d_input = Input(shape=(input_dim, ))\n",
    "    features = interim_encoder(d_input)\n",
    "    aux = Dense(\n",
    "        nclasses+1, activation='softmax', name='auxiliary')(features)\n",
    "    discriminator = Model(d_input, aux, name='discriminator')\n",
    "    return discriminator\n",
    "\n",
    "discriminator = build_discriminator(nclasses)\n",
    "discriminator.compile(loss=['sparse_categorical_crossentropy'], optimizer=optimizer, metrics=['accuracy'])\n",
    "discriminator.summary()\n"
   ]
  },
  {
   "cell_type": "markdown",
   "id": "0bf0f9c3",
   "metadata": {
    "papermill": {
     "duration": 0.489493,
     "end_time": "2021-11-03T12:43:45.474792",
     "exception": false,
     "start_time": "2021-11-03T12:43:44.985299",
     "status": "completed"
    },
    "tags": []
   },
   "source": [
    "### Build Generator"
   ]
  },
  {
   "cell_type": "code",
   "execution_count": 18,
   "id": "c54aa21f",
   "metadata": {
    "execution": {
     "iopub.execute_input": "2021-11-03T12:43:46.448019Z",
     "iopub.status.busy": "2021-11-03T12:43:46.447323Z",
     "iopub.status.idle": "2021-11-03T12:43:46.601225Z",
     "shell.execute_reply": "2021-11-03T12:43:46.600548Z",
     "shell.execute_reply.started": "2021-11-03T12:02:02.949622Z"
    },
    "papermill": {
     "duration": 0.64223,
     "end_time": "2021-11-03T12:43:46.601366",
     "exception": false,
     "start_time": "2021-11-03T12:43:45.959136",
     "status": "completed"
    },
    "tags": []
   },
   "outputs": [
    {
     "name": "stdout",
     "output_type": "stream",
     "text": [
      "Model: \"generator\"\n",
      "_________________________________________________________________\n",
      "Layer (type)                 Output Shape              Param #   \n",
      "=================================================================\n",
      "input_2 (InputLayer)         [(None, 10)]              0         \n",
      "_________________________________________________________________\n",
      "decoder (Sequential)         (None, 122)               4378      \n",
      "=================================================================\n",
      "Total params: 4,378\n",
      "Trainable params: 4,378\n",
      "Non-trainable params: 0\n",
      "_________________________________________________________________\n"
     ]
    }
   ],
   "source": [
    "def build_generator():\n",
    "    interim_decoder = load_model('pre-train-decoder')\n",
    "    g_input = Input(shape=(latend_dim, ))\n",
    "    features = interim_decoder(g_input)\n",
    "    generator = Model(g_input, features, name='generator')\n",
    "    return generator\n",
    "generator = build_generator()\n",
    "generator.summary()"
   ]
  },
  {
   "cell_type": "code",
   "execution_count": 19,
   "id": "35b30552",
   "metadata": {
    "execution": {
     "iopub.execute_input": "2021-11-03T12:43:47.575710Z",
     "iopub.status.busy": "2021-11-03T12:43:47.574896Z",
     "iopub.status.idle": "2021-11-03T12:43:47.577796Z",
     "shell.execute_reply": "2021-11-03T12:43:47.578314Z",
     "shell.execute_reply.started": "2021-11-03T12:02:03.099055Z"
    },
    "papermill": {
     "duration": 0.492498,
     "end_time": "2021-11-03T12:43:47.578482",
     "exception": false,
     "start_time": "2021-11-03T12:43:47.085984",
     "status": "completed"
    },
    "tags": []
   },
   "outputs": [
    {
     "data": {
      "text/plain": [
       "'2.6.0'"
      ]
     },
     "execution_count": 19,
     "metadata": {},
     "output_type": "execute_result"
    }
   ],
   "source": [
    "import tensorflow as tf\n",
    "tf.__version__"
   ]
  },
  {
   "cell_type": "markdown",
   "id": "5f6f9d35",
   "metadata": {
    "papermill": {
     "duration": 0.481834,
     "end_time": "2021-11-03T12:43:48.544890",
     "exception": false,
     "start_time": "2021-11-03T12:43:48.063056",
     "status": "completed"
    },
    "tags": []
   },
   "source": [
    "### Build BAGAN"
   ]
  },
  {
   "cell_type": "code",
   "execution_count": 20,
   "id": "313822cb",
   "metadata": {
    "execution": {
     "iopub.execute_input": "2021-11-03T12:43:49.516932Z",
     "iopub.status.busy": "2021-11-03T12:43:49.515807Z",
     "iopub.status.idle": "2021-11-03T12:43:50.524481Z",
     "shell.execute_reply": "2021-11-03T12:43:50.525098Z",
     "shell.execute_reply.started": "2021-11-03T12:02:03.106444Z"
    },
    "papermill": {
     "duration": 1.499946,
     "end_time": "2021-11-03T12:43:50.525281",
     "exception": false,
     "start_time": "2021-11-03T12:43:49.025335",
     "status": "completed"
    },
    "tags": []
   },
   "outputs": [
    {
     "name": "stdout",
     "output_type": "stream",
     "text": [
      "Model: \"model\"\n",
      "_________________________________________________________________\n",
      "Layer (type)                 Output Shape              Param #   \n",
      "=================================================================\n",
      "noise (InputLayer)           [(None, 10)]              0         \n",
      "_________________________________________________________________\n",
      "generator (Functional)       (None, 122)               4378      \n",
      "_________________________________________________________________\n",
      "discriminator (Functional)   (None, 6)                 4332      \n",
      "=================================================================\n",
      "Total params: 8,710\n",
      "Trainable params: 4,378\n",
      "Non-trainable params: 4,332\n",
      "_________________________________________________________________\n"
     ]
    },
    {
     "data": {
      "image/png": "[encoded data removed]",
      "text/plain": [
       "<IPython.core.display.Image object>"
      ]
     },
     "execution_count": 20,
     "metadata": {},
     "output_type": "execute_result"
    }
   ],
   "source": [
    "def build_bagan():\n",
    "    discriminator.trainable = False\n",
    "    noise = Input(shape=(latend_dim,), name='noise')\n",
    "    img_ = generator(noise)\n",
    "    valid = discriminator(img_)\n",
    "    bagan = Model(noise, valid)\n",
    "    return bagan\n",
    "\n",
    "bagan = build_bagan()\n",
    "bagan.compile(loss=['sparse_categorical_crossentropy'], optimizer=optimizer)\n",
    "bagan.summary() \n",
    "plot_model(bagan, to_file='bagan.png', show_shapes=True)"
   ]
  },
  {
   "cell_type": "code",
   "execution_count": 21,
   "id": "118187ea",
   "metadata": {
    "execution": {
     "iopub.execute_input": "2021-11-03T12:43:51.508199Z",
     "iopub.status.busy": "2021-11-03T12:43:51.507501Z",
     "iopub.status.idle": "2021-11-03T12:43:51.520358Z",
     "shell.execute_reply": "2021-11-03T12:43:51.520894Z",
     "shell.execute_reply.started": "2021-11-03T12:09:53.218239Z"
    },
    "papermill": {
     "duration": 0.506445,
     "end_time": "2021-11-03T12:43:51.521075",
     "exception": false,
     "start_time": "2021-11-03T12:43:51.014630",
     "status": "completed"
    },
    "tags": []
   },
   "outputs": [],
   "source": [
    "rng = np.random.default_rng()\n",
    "def multivariate(X, size=64):\n",
    "    '''Draw random vectors from a multivariate normal distribution \n",
    "    with diagonal covariance approximations.\n",
    "    Diagonal covariance (`cov` has non-negative elements, and only on the diagonal)\n",
    "    Assumption: all the features in latent space are independent from each other.\n",
    "    '''\n",
    "    u = np.mean(X, axis=0)\n",
    "    std = np.std(X, axis=0)\n",
    "    diag = np.diag(std)\n",
    "    multiV = rng.multivariate_normal(u, diag, size)\n",
    "    return multiV\n",
    "\n",
    "def latentGenerator(encoder, X_train):\n",
    "    return encoder.predict(X_train)\n",
    "\n",
    "def latentSampling(vectors, y_train, labels_dict, size=64):\n",
    "    ''' Draw ramdom vectors at latent space from a multivariate normal distribution \n",
    "    with a given label\n",
    "    '''\n",
    "    empty_X = np.empty(shape=(1, vectors.shape[1]))\n",
    "    if y_train.ndim == 1:\n",
    "        empty_y = np.empty(shape=(1,))\n",
    "        shape = (size, )\n",
    "    else:\n",
    "        empty_y = np.empty(shape=(1,1))\n",
    "        shape = (size, 1)\n",
    "    \n",
    "    \n",
    "    for label in labels_dict.values():\n",
    "        vector = vectors[y_train == label]\n",
    "        sample = multivariate(vector, size=size)\n",
    "        y = np.zeros(shape=shape)\n",
    "        y.fill(label)\n",
    "\n",
    "        empty_X = np.r_[empty_X, sample] \n",
    "        empty_y = np.r_[empty_y, y]\n",
    "        \n",
    "    empty_X = empty_X[1:]\n",
    "    empty_y = empty_y[1:] \n",
    "    index = np.random.choice(empty_X.shape[0], size=size, replace=False)\n",
    "    X_samples = empty_X[index]\n",
    "    y_samples = empty_y[index]\n",
    "    \n",
    "    return X_samples, y_samples"
   ]
  },
  {
   "cell_type": "code",
   "execution_count": 22,
   "id": "3f7d4c44",
   "metadata": {
    "execution": {
     "iopub.execute_input": "2021-11-03T12:43:52.530164Z",
     "iopub.status.busy": "2021-11-03T12:43:52.529459Z",
     "iopub.status.idle": "2021-11-03T12:43:52.530962Z",
     "shell.execute_reply": "2021-11-03T12:43:52.531629Z",
     "shell.execute_reply.started": "2021-11-03T12:02:04.117994Z"
    },
    "papermill": {
     "duration": 0.519701,
     "end_time": "2021-11-03T12:43:52.531830",
     "exception": false,
     "start_time": "2021-11-03T12:43:52.012129",
     "status": "completed"
    },
    "tags": []
   },
   "outputs": [],
   "source": [
    "# def initSampling(X, y, nsize, labels):\n",
    "#     X = np.array(X)\n",
    "#     y = np.array(y)\n",
    "#     x_0 = X[0:1]\n",
    "#     y_0 = y[0:1]\n",
    "\n",
    "#     for i in labels.values():\n",
    "#         X_index = X[y == i]\n",
    "#         y_index = y[y == i]\n",
    "#         idx = np.random.randint(0, X_index.shape[0], round(nsize/len(labels)))\n",
    "#         x_0 = np.r_[x_0, X_index[idx]] \n",
    "#         y_0 = np.r_[y_0, y_index[idx]]\n",
    "\n",
    "#     X_samples = x_0[1:]\n",
    "#     y_samples = y_0[1:]\n",
    "#     return X_samples, y_samples"
   ]
  },
  {
   "cell_type": "code",
   "execution_count": 23,
   "id": "14ae677b",
   "metadata": {
    "execution": {
     "iopub.execute_input": "2021-11-03T12:43:53.510115Z",
     "iopub.status.busy": "2021-11-03T12:43:53.509459Z",
     "iopub.status.idle": "2021-11-03T12:47:39.847933Z",
     "shell.execute_reply": "2021-11-03T12:47:39.847342Z",
     "shell.execute_reply.started": "2021-11-03T12:02:04.131568Z"
    },
    "papermill": {
     "duration": 226.826493,
     "end_time": "2021-11-03T12:47:39.848100",
     "exception": false,
     "start_time": "2021-11-03T12:43:53.021607",
     "status": "completed"
    },
    "tags": []
   },
   "outputs": [
    {
     "name": "stdout",
     "output_type": "stream",
     "text": [
      "11\n",
      "0 dloss:16.4795, acc: 9.38, gloss: 9.2719\n",
      "50 dloss:1.2732, acc: 62.50, gloss: 0.5459\n",
      "100 dloss:0.3874, acc: 85.94, gloss: 1.2214\n",
      "150 dloss:0.7447, acc: 87.50, gloss: 2.0382\n",
      "200 dloss:0.4765, acc: 89.06, gloss: 1.7328\n",
      "250 dloss:0.4164, acc: 92.19, gloss: 1.2746\n",
      "300 dloss:0.1228, acc: 95.31, gloss: 2.0770\n",
      "350 dloss:0.1018, acc: 96.88, gloss: 2.9048\n",
      "400 dloss:0.2351, acc: 90.62, gloss: 1.7678\n",
      "450 dloss:0.1698, acc: 98.44, gloss: 1.9301\n",
      "500 dloss:0.1477, acc: 95.31, gloss: 1.9406\n",
      "550 dloss:0.1026, acc: 98.44, gloss: 2.5953\n",
      "600 dloss:0.0919, acc: 95.31, gloss: 2.9231\n",
      "650 dloss:0.0668, acc: 98.44, gloss: 2.4743\n",
      "700 dloss:0.0461, acc: 100.00, gloss: 3.6219\n",
      "750 dloss:0.0544, acc: 96.88, gloss: 3.5204\n",
      "800 dloss:0.0210, acc: 100.00, gloss: 3.4412\n",
      "850 dloss:0.0305, acc: 100.00, gloss: 4.0394\n",
      "900 dloss:0.0752, acc: 98.44, gloss: 4.3135\n",
      "950 dloss:0.2404, acc: 84.38, gloss: 1.7298\n",
      "1000 dloss:0.1264, acc: 93.75, gloss: 2.0983\n",
      "1050 dloss:0.2314, acc: 93.75, gloss: 1.9470\n",
      "1100 dloss:0.1586, acc: 95.31, gloss: 2.3491\n",
      "1150 dloss:0.0984, acc: 96.88, gloss: 2.6981\n",
      "1200 dloss:0.1108, acc: 96.88, gloss: 2.2503\n",
      "1250 dloss:0.2109, acc: 92.19, gloss: 1.6144\n",
      "1300 dloss:0.3197, acc: 90.62, gloss: 1.8658\n",
      "1350 dloss:0.1974, acc: 93.75, gloss: 2.3683\n",
      "1400 dloss:0.0865, acc: 98.44, gloss: 2.4085\n",
      "1450 dloss:0.2838, acc: 90.62, gloss: 2.4827\n",
      "1500 dloss:0.1668, acc: 90.62, gloss: 2.7582\n",
      "1550 dloss:0.1578, acc: 92.19, gloss: 2.4115\n",
      "1600 dloss:0.1958, acc: 90.62, gloss: 2.6642\n",
      "1650 dloss:0.0818, acc: 98.44, gloss: 2.7464\n",
      "1700 dloss:0.0535, acc: 100.00, gloss: 2.5912\n",
      "1750 dloss:0.1631, acc: 92.19, gloss: 2.0875\n",
      "1800 dloss:0.1320, acc: 95.31, gloss: 2.4074\n",
      "1850 dloss:0.1306, acc: 93.75, gloss: 2.7863\n",
      "1900 dloss:0.1253, acc: 93.75, gloss: 2.6748\n",
      "1950 dloss:0.0620, acc: 98.44, gloss: 2.4075\n"
     ]
    }
   ],
   "source": [
    "from sklearn.utils import shuffle\n",
    "conditional_size = round(batch_size / (nclasses + 1))\n",
    "print(conditional_size)\n",
    "latents = latentGenerator(encoder, X_train)\n",
    "# labels_list = labels.values()\n",
    "\n",
    "g_loss_list = []\n",
    "d_loss_list = []\n",
    "epochs = 2000\n",
    "\n",
    "for epoch in range(epochs):\n",
    "    # ---------------------\n",
    "    #  Train Discriminator\n",
    "    # ---------------------\n",
    "    # Sample noise as generator input, generate fake labels (0) for all the synthetic samples\n",
    "    gen_samples, gen_labels = latentSampling(latents, y_train, labels, conditional_size)\n",
    "    gen_samples = generator.predict(gen_samples)\n",
    "    gen_labels = np.zeros_like(gen_labels)\n",
    "    #Select a random batch of real samples  \n",
    "    idx = np.random.randint(0, X_train_scaler.shape[0], (batch_size - conditional_size))                \n",
    "    img = X_train_scaler[idx]\n",
    "    label_r = y_train[idx].values\n",
    "                            \n",
    "    # concatenate and shuffle all the real and fake samples\n",
    "    total_samples = np.r_[gen_samples, img]\n",
    "    total_labels = np.r_[gen_labels, label_r]\n",
    "    total_samples, total_labels = shuffle(total_samples, total_labels, random_state=42)\n",
    "                            \n",
    "    d_loss = discriminator.train_on_batch(total_samples, total_labels)                        \n",
    "    \n",
    "    # ---------------------\n",
    "    #  Train Generator\n",
    "    # ---------------------\n",
    "    # Sample noise from multivariate normal distribution as generator input\n",
    "    noises, noisy_labels = latentSampling(latents, y_train, labels, batch_size)\n",
    "    # training the Generator with the real labels\n",
    "    g_loss = bagan.train_on_batch(noises, noisy_labels)             \n",
    "    \n",
    "    d_loss_list.append(d_loss[0])\n",
    "    g_loss_list.append(g_loss)\n",
    "    \n",
    "    if epoch % 50 == 0:\n",
    "        # Plot the progress\n",
    "        print (f\"{epoch} dloss:{d_loss[0]:.4f}, acc: {100*d_loss[1]:.2f}, gloss: {g_loss:.4f}\")\n",
    "    "
   ]
  },
  {
   "cell_type": "code",
   "execution_count": 24,
   "id": "a5adfd26",
   "metadata": {
    "execution": {
     "iopub.execute_input": "2021-11-03T12:47:40.854553Z",
     "iopub.status.busy": "2021-11-03T12:47:40.853918Z",
     "iopub.status.idle": "2021-11-03T12:47:40.859900Z",
     "shell.execute_reply": "2021-11-03T12:47:40.860452Z",
     "shell.execute_reply.started": "2021-11-03T12:05:48.245885Z"
    },
    "papermill": {
     "duration": 0.510032,
     "end_time": "2021-11-03T12:47:40.860629",
     "exception": false,
     "start_time": "2021-11-03T12:47:40.350597",
     "status": "completed"
    },
    "tags": []
   },
   "outputs": [],
   "source": [
    "def loss_plot(losses, names):\n",
    "    length = len(names)\n",
    "    fig, ax = plt.subplots(figsize=(8,6))\n",
    "    for loss, name in zip(losses, names):\n",
    "        ax.plot(loss, label=name)\n",
    "    ax.set_ylabel(\"loss\")\n",
    "    ax.set_xlabel(\"Iterations\")\n",
    "    ax.spines['top'].set_visible(False)\n",
    "    ax.spines['right'].set_visible(False)\n",
    "    plt.legend()\n",
    "    plt.show()"
   ]
  },
  {
   "cell_type": "code",
   "execution_count": 25,
   "id": "f1d72b2f",
   "metadata": {
    "execution": {
     "iopub.execute_input": "2021-11-03T12:47:41.914788Z",
     "iopub.status.busy": "2021-11-03T12:47:41.914116Z",
     "iopub.status.idle": "2021-11-03T12:47:42.215854Z",
     "shell.execute_reply": "2021-11-03T12:47:42.215325Z",
     "shell.execute_reply.started": "2021-11-03T12:05:48.254110Z"
    },
    "papermill": {
     "duration": 0.856523,
     "end_time": "2021-11-03T12:47:42.216004",
     "exception": false,
     "start_time": "2021-11-03T12:47:41.359481",
     "status": "completed"
    },
    "tags": []
   },
   "outputs": [
    {
     "data": {
      "image/png": "[encoded data removed]",
      "text/plain": [
       "<Figure size 576x432 with 1 Axes>"
      ]
     },
     "metadata": {},
     "output_type": "display_data"
    }
   ],
   "source": [
    "names = ['Dloss', 'Gloss']\n",
    "losses = [d_loss_list, g_loss_list]\n",
    "loss_plot(losses, names)"
   ]
  },
  {
   "cell_type": "code",
   "execution_count": 26,
   "id": "f9d870a8",
   "metadata": {
    "execution": {
     "iopub.execute_input": "2021-11-03T12:47:43.221090Z",
     "iopub.status.busy": "2021-11-03T12:47:43.217585Z",
     "iopub.status.idle": "2021-11-03T12:47:48.055143Z",
     "shell.execute_reply": "2021-11-03T12:47:48.054412Z",
     "shell.execute_reply.started": "2021-11-03T12:09:53.230619Z"
    },
    "papermill": {
     "duration": 5.34013,
     "end_time": "2021-11-03T12:47:48.055285",
     "exception": false,
     "start_time": "2021-11-03T12:47:42.715155",
     "status": "completed"
    },
    "tags": []
   },
   "outputs": [],
   "source": [
    "sampling_size = 150000\n",
    "sampling_labels = {'Probe': 2, 'U2R': 3, 'R2L': 4}\n",
    "X_generated, y_generated = latentSampling(latents, y_train, sampling_labels, sampling_size)\n",
    "X_generated = generator.predict(X_generated)\n",
    "X_all = np.r_[X_train, X_generated]\n",
    "y_all = np.r_[y_train, y_generated]\n",
    "X_all, y_all = shuffle(X_all, y_all, random_state=42)"
   ]
  },
  {
   "cell_type": "code",
   "execution_count": 27,
   "id": "726b7ebf",
   "metadata": {
    "execution": {
     "iopub.execute_input": "2021-11-03T12:47:49.053675Z",
     "iopub.status.busy": "2021-11-03T12:47:49.053020Z",
     "iopub.status.idle": "2021-11-03T12:47:49.224763Z",
     "shell.execute_reply": "2021-11-03T12:47:49.225320Z",
     "shell.execute_reply.started": "2021-11-03T12:10:51.927560Z"
    },
    "papermill": {
     "duration": 0.672362,
     "end_time": "2021-11-03T12:47:49.225498",
     "exception": false,
     "start_time": "2021-11-03T12:47:48.553136",
     "status": "completed"
    },
    "tags": []
   },
   "outputs": [
    {
     "data": {
      "text/plain": [
       "Counter({3.0: 49971, 1.0: 45927, 2.0: 61914, 4.0: 50818, 0.0: 67343})"
      ]
     },
     "execution_count": 27,
     "metadata": {},
     "output_type": "execute_result"
    }
   ],
   "source": [
    "from collections import Counter\n",
    "Counter(y_generated)\n",
    "Counter(y_all)"
   ]
  },
  {
   "cell_type": "markdown",
   "id": "6d6e6dee",
   "metadata": {
    "papermill": {
     "duration": 0.500123,
     "end_time": "2021-11-03T12:47:50.237763",
     "exception": false,
     "start_time": "2021-11-03T12:47:49.737640",
     "status": "completed"
    },
    "tags": []
   },
   "source": [
    "### Performance"
   ]
  },
  {
   "cell_type": "code",
   "execution_count": 28,
   "id": "edfd54cc",
   "metadata": {
    "execution": {
     "iopub.execute_input": "2021-11-03T12:47:51.253407Z",
     "iopub.status.busy": "2021-11-03T12:47:51.252680Z",
     "iopub.status.idle": "2021-11-03T12:47:51.492941Z",
     "shell.execute_reply": "2021-11-03T12:47:51.493460Z",
     "shell.execute_reply.started": "2021-11-03T12:05:53.190325Z"
    },
    "papermill": {
     "duration": 0.751721,
     "end_time": "2021-11-03T12:47:51.493647",
     "exception": false,
     "start_time": "2021-11-03T12:47:50.741926",
     "status": "completed"
    },
    "tags": []
   },
   "outputs": [],
   "source": [
    "from sklearn.ensemble import RandomForestClassifier\n",
    "from sklearn.tree import DecisionTreeClassifier\n",
    "from sklearn.naive_bayes import GaussianNB\n",
    "from sklearn.svm import SVC\n",
    "from sklearn.metrics import classification_report, multilabel_confusion_matrix\n",
    "from sklearn.metrics import confusion_matrix, ConfusionMatrixDisplay, plot_confusion_matrix\n",
    "\n",
    "def multilabel_matrix(y_true, y_pred, labels=None):\n",
    "    mlm = multilabel_confusion_matrix(y_true, y_pred)\n",
    "    df_performance = pd.DataFrame(index=labels, columns=['accuracy', 'precision', 'recall', 'f1_score'])\n",
    "    for i, label in enumerate(labels):\n",
    "        tn, fp, fn, tp = mlm[i].ravel()\n",
    "        accuracy = (tn + tp) / (tn + fp + fn + tp)\n",
    "        precision = tp / (tp + fp)\n",
    "        recall = tp / (tp + fn)\n",
    "        f1_score = 2*precision * recall / (precision + recall)\n",
    "        df_performance.loc[label] = [round(accuracy, 4), round(precision,4), \\\n",
    "                                     round(recall, 4), round(f1_score,4)]\n",
    "        \n",
    "    return df_performance\n",
    "\n",
    "def plot_cm(y_true, y_pred, labels):\n",
    "    cm = confusion_matrix(y_true, y_pred)\n",
    "    fig, ax = plt.subplots(figsize=(10, 10))\n",
    "    ConfusionMatrixDisplay(confusion_matrix=cm, display_labels=labels).plot(ax=ax)\n",
    "    plt.show()"
   ]
  },
  {
   "cell_type": "code",
   "execution_count": null,
   "id": "eeafae4d",
   "metadata": {
    "papermill": {
     "duration": 0.497041,
     "end_time": "2021-11-03T12:47:52.490320",
     "exception": false,
     "start_time": "2021-11-03T12:47:51.993279",
     "status": "completed"
    },
    "tags": []
   },
   "outputs": [],
   "source": []
  },
  {
   "cell_type": "markdown",
   "id": "39496d5f",
   "metadata": {
    "papermill": {
     "duration": 0.500404,
     "end_time": "2021-11-03T12:47:53.487617",
     "exception": false,
     "start_time": "2021-11-03T12:47:52.987213",
     "status": "completed"
    },
    "tags": []
   },
   "source": [
    "### Supervisized Learning Performance"
   ]
  },
  {
   "cell_type": "code",
   "execution_count": 29,
   "id": "bfe044c7",
   "metadata": {
    "execution": {
     "iopub.execute_input": "2021-11-03T12:47:54.515863Z",
     "iopub.status.busy": "2021-11-03T12:47:54.515136Z",
     "iopub.status.idle": "2021-11-03T12:47:54.518972Z",
     "shell.execute_reply": "2021-11-03T12:47:54.519505Z",
     "shell.execute_reply.started": "2021-11-03T12:05:53.421912Z"
    },
    "papermill": {
     "duration": 0.527645,
     "end_time": "2021-11-03T12:47:54.519670",
     "exception": false,
     "start_time": "2021-11-03T12:47:53.992025",
     "status": "completed"
    },
    "tags": []
   },
   "outputs": [],
   "source": [
    "def sl_predict(X_train, y_train, X_test, model):\n",
    "    model.fit(X_train, y_train)\n",
    "    y_pred = model.predict(X_test)\n",
    "    return y_pred, model"
   ]
  },
  {
   "cell_type": "code",
   "execution_count": 30,
   "id": "6d05763b",
   "metadata": {
    "execution": {
     "iopub.execute_input": "2021-11-03T12:47:55.524372Z",
     "iopub.status.busy": "2021-11-03T12:47:55.523667Z",
     "iopub.status.idle": "2021-11-03T12:48:27.003665Z",
     "shell.execute_reply": "2021-11-03T12:48:27.001905Z",
     "shell.execute_reply.started": "2021-11-03T12:13:22.445998Z"
    },
    "papermill": {
     "duration": 31.983134,
     "end_time": "2021-11-03T12:48:27.003854",
     "exception": false,
     "start_time": "2021-11-03T12:47:55.020720",
     "status": "completed"
    },
    "tags": []
   },
   "outputs": [
    {
     "name": "stdout",
     "output_type": "stream",
     "text": [
      "(22544,)\n",
      "              precision    recall  f1-score   support\n",
      "\n",
      "      normal       0.69      0.92      0.79      9711\n",
      "         DoS       0.96      0.81      0.88      7460\n",
      "       Probe       0.60      0.76      0.67      2421\n",
      "         U2R       0.37      0.10      0.16        67\n",
      "         R2L       0.95      0.11      0.20      2885\n",
      "\n",
      "    accuracy                           0.76     22544\n",
      "   macro avg       0.71      0.54      0.54     22544\n",
      "weighted avg       0.80      0.76      0.73     22544\n",
      "\n"
     ]
    },
    {
     "data": {
      "image/png": "[encoded data removed]",
      "text/plain": [
       "<Figure size 720x720 with 2 Axes>"
      ]
     },
     "metadata": {},
     "output_type": "display_data"
    },
    {
     "data": {
      "text/html": [
       "<div>\n",
       "<style scoped>\n",
       "    .dataframe tbody tr th:only-of-type {\n",
       "        vertical-align: middle;\n",
       "    }\n",
       "\n",
       "    .dataframe tbody tr th {\n",
       "        vertical-align: top;\n",
       "    }\n",
       "\n",
       "    .dataframe thead th {\n",
       "        text-align: right;\n",
       "    }\n",
       "</style>\n",
       "<table border=\"1\" class=\"dataframe\">\n",
       "  <thead>\n",
       "    <tr style=\"text-align: right;\">\n",
       "      <th></th>\n",
       "      <th>accuracy</th>\n",
       "      <th>precision</th>\n",
       "      <th>recall</th>\n",
       "      <th>f1_score</th>\n",
       "    </tr>\n",
       "  </thead>\n",
       "  <tbody>\n",
       "    <tr>\n",
       "      <th>normal</th>\n",
       "      <td>0.7907</td>\n",
       "      <td>0.6947</td>\n",
       "      <td>0.9172</td>\n",
       "      <td>0.7906</td>\n",
       "    </tr>\n",
       "    <tr>\n",
       "      <th>DoS</th>\n",
       "      <td>0.9281</td>\n",
       "      <td>0.9645</td>\n",
       "      <td>0.8127</td>\n",
       "      <td>0.8821</td>\n",
       "    </tr>\n",
       "    <tr>\n",
       "      <th>Probe</th>\n",
       "      <td>0.9189</td>\n",
       "      <td>0.5963</td>\n",
       "      <td>0.7584</td>\n",
       "      <td>0.6676</td>\n",
       "    </tr>\n",
       "    <tr>\n",
       "      <th>U2R</th>\n",
       "      <td>0.9968</td>\n",
       "      <td>0.3684</td>\n",
       "      <td>0.1045</td>\n",
       "      <td>0.1628</td>\n",
       "    </tr>\n",
       "    <tr>\n",
       "      <th>R2L</th>\n",
       "      <td>0.8855</td>\n",
       "      <td>0.9469</td>\n",
       "      <td>0.1113</td>\n",
       "      <td>0.1991</td>\n",
       "    </tr>\n",
       "  </tbody>\n",
       "</table>\n",
       "</div>"
      ],
      "text/plain": [
       "       accuracy precision  recall f1_score\n",
       "normal   0.7907    0.6947  0.9172   0.7906\n",
       "DoS      0.9281    0.9645  0.8127   0.8821\n",
       "Probe    0.9189    0.5963  0.7584   0.6676\n",
       "U2R      0.9968    0.3684  0.1045   0.1628\n",
       "R2L      0.8855    0.9469  0.1113   0.1991"
      ]
     },
     "execution_count": 30,
     "metadata": {},
     "output_type": "execute_result"
    }
   ],
   "source": [
    "clf = DecisionTreeClassifier(random_state=0)\n",
    "y_pred, dt = sl_predict(X_all, y_all, X_test_scaler, clf)\n",
    "print(y_pred.shape)\n",
    "\n",
    "print(classification_report(y_test, y_pred, target_names=list(labels.keys())))\n",
    "plot_cm(y_test, y_pred, labels=list(labels.keys()))\n",
    "\n",
    "performance = multilabel_matrix(y_test, y_pred, labels=list(labels.keys()))\n",
    "performance"
   ]
  },
  {
   "cell_type": "code",
   "execution_count": 31,
   "id": "5731546f",
   "metadata": {
    "execution": {
     "iopub.execute_input": "2021-11-03T12:48:28.117439Z",
     "iopub.status.busy": "2021-11-03T12:48:28.116638Z",
     "iopub.status.idle": "2021-11-03T12:51:38.091551Z",
     "shell.execute_reply": "2021-11-03T12:51:38.089665Z",
     "shell.execute_reply.started": "2021-11-03T12:06:24.632930Z"
    },
    "papermill": {
     "duration": 190.513618,
     "end_time": "2021-11-03T12:51:38.091792",
     "exception": false,
     "start_time": "2021-11-03T12:48:27.578174",
     "status": "completed"
    },
    "tags": []
   },
   "outputs": [
    {
     "name": "stdout",
     "output_type": "stream",
     "text": [
      "(22544,)\n",
      "              precision    recall  f1-score   support\n",
      "\n",
      "      normal       0.65      0.97      0.78      9711\n",
      "         DoS       0.96      0.81      0.88      7460\n",
      "       Probe       0.84      0.61      0.71      2421\n",
      "         U2R       0.40      0.03      0.06        67\n",
      "         R2L       0.97      0.04      0.08      2885\n",
      "\n",
      "    accuracy                           0.76     22544\n",
      "   macro avg       0.77      0.49      0.50     22544\n",
      "weighted avg       0.82      0.76      0.71     22544\n",
      "\n"
     ]
    },
    {
     "data": {
      "image/png": "[encoded data removed]",
      "text/plain": [
       "<Figure size 720x720 with 2 Axes>"
      ]
     },
     "metadata": {},
     "output_type": "display_data"
    },
    {
     "data": {
      "text/html": [
       "<div>\n",
       "<style scoped>\n",
       "    .dataframe tbody tr th:only-of-type {\n",
       "        vertical-align: middle;\n",
       "    }\n",
       "\n",
       "    .dataframe tbody tr th {\n",
       "        vertical-align: top;\n",
       "    }\n",
       "\n",
       "    .dataframe thead th {\n",
       "        text-align: right;\n",
       "    }\n",
       "</style>\n",
       "<table border=\"1\" class=\"dataframe\">\n",
       "  <thead>\n",
       "    <tr style=\"text-align: right;\">\n",
       "      <th></th>\n",
       "      <th>accuracy</th>\n",
       "      <th>precision</th>\n",
       "      <th>recall</th>\n",
       "      <th>f1_score</th>\n",
       "    </tr>\n",
       "  </thead>\n",
       "  <tbody>\n",
       "    <tr>\n",
       "      <th>normal</th>\n",
       "      <td>0.7673</td>\n",
       "      <td>0.6548</td>\n",
       "      <td>0.9727</td>\n",
       "      <td>0.7827</td>\n",
       "    </tr>\n",
       "    <tr>\n",
       "      <th>DoS</th>\n",
       "      <td>0.9259</td>\n",
       "      <td>0.9636</td>\n",
       "      <td>0.8066</td>\n",
       "      <td>0.8781</td>\n",
       "    </tr>\n",
       "    <tr>\n",
       "      <th>Probe</th>\n",
       "      <td>0.9461</td>\n",
       "      <td>0.8441</td>\n",
       "      <td>0.6105</td>\n",
       "      <td>0.7085</td>\n",
       "    </tr>\n",
       "    <tr>\n",
       "      <th>U2R</th>\n",
       "      <td>0.997</td>\n",
       "      <td>0.4</td>\n",
       "      <td>0.0299</td>\n",
       "      <td>0.0556</td>\n",
       "    </tr>\n",
       "    <tr>\n",
       "      <th>R2L</th>\n",
       "      <td>0.877</td>\n",
       "      <td>0.9746</td>\n",
       "      <td>0.0399</td>\n",
       "      <td>0.0766</td>\n",
       "    </tr>\n",
       "  </tbody>\n",
       "</table>\n",
       "</div>"
      ],
      "text/plain": [
       "       accuracy precision  recall f1_score\n",
       "normal   0.7673    0.6548  0.9727   0.7827\n",
       "DoS      0.9259    0.9636  0.8066   0.8781\n",
       "Probe    0.9461    0.8441  0.6105   0.7085\n",
       "U2R       0.997       0.4  0.0299   0.0556\n",
       "R2L       0.877    0.9746  0.0399   0.0766"
      ]
     },
     "execution_count": 31,
     "metadata": {},
     "output_type": "execute_result"
    }
   ],
   "source": [
    "clf = RandomForestClassifier(random_state=0)\n",
    "y_pred, rf = sl_predict(X_all, y_all, X_test_scaler, clf)\n",
    "print(y_pred.shape)\n",
    "\n",
    "print(classification_report(y_test, y_pred, target_names=list(labels.keys())))\n",
    "plot_cm(y_test, y_pred, labels)\n",
    "\n",
    "performance = multilabel_matrix(y_test, y_pred, labels)\n",
    "performance"
   ]
  },
  {
   "cell_type": "code",
   "execution_count": 32,
   "id": "432301c0",
   "metadata": {
    "execution": {
     "iopub.execute_input": "2021-11-03T12:51:39.102270Z",
     "iopub.status.busy": "2021-11-03T12:51:39.101573Z",
     "iopub.status.idle": "2021-11-03T12:51:40.824518Z",
     "shell.execute_reply": "2021-11-03T12:51:40.825072Z",
     "shell.execute_reply.started": "2021-11-03T12:09:51.771235Z"
    },
    "papermill": {
     "duration": 2.230817,
     "end_time": "2021-11-03T12:51:40.825265",
     "exception": false,
     "start_time": "2021-11-03T12:51:38.594448",
     "status": "completed"
    },
    "tags": []
   },
   "outputs": [
    {
     "name": "stdout",
     "output_type": "stream",
     "text": [
      "(22544,)\n",
      "              precision    recall  f1-score   support\n",
      "\n",
      "      normal       0.53      0.97      0.68      9711\n",
      "         DoS       0.85      0.41      0.55      7460\n",
      "       Probe       0.86      0.10      0.18      2421\n",
      "         U2R       0.00      0.00      0.00        67\n",
      "         R2L       0.72      0.20      0.31      2885\n",
      "\n",
      "    accuracy                           0.59     22544\n",
      "   macro avg       0.59      0.33      0.34     22544\n",
      "weighted avg       0.69      0.59      0.54     22544\n",
      "\n"
     ]
    },
    {
     "name": "stderr",
     "output_type": "stream",
     "text": [
      "/opt/conda/lib/python3.7/site-packages/sklearn/metrics/_classification.py:1221: UndefinedMetricWarning: Precision and F-score are ill-defined and being set to 0.0 in labels with no predicted samples. Use `zero_division` parameter to control this behavior.\n",
      "  _warn_prf(average, modifier, msg_start, len(result))\n"
     ]
    },
    {
     "data": {
      "image/png": "[encoded data removed]",
      "text/plain": [
       "<Figure size 720x720 with 2 Axes>"
      ]
     },
     "metadata": {},
     "output_type": "display_data"
    },
    {
     "name": "stderr",
     "output_type": "stream",
     "text": [
      "/opt/conda/lib/python3.7/site-packages/ipykernel_launcher.py:14: RuntimeWarning: invalid value encountered in long_scalars\n",
      "  \n"
     ]
    },
    {
     "data": {
      "text/html": [
       "<div>\n",
       "<style scoped>\n",
       "    .dataframe tbody tr th:only-of-type {\n",
       "        vertical-align: middle;\n",
       "    }\n",
       "\n",
       "    .dataframe tbody tr th {\n",
       "        vertical-align: top;\n",
       "    }\n",
       "\n",
       "    .dataframe thead th {\n",
       "        text-align: right;\n",
       "    }\n",
       "</style>\n",
       "<table border=\"1\" class=\"dataframe\">\n",
       "  <thead>\n",
       "    <tr style=\"text-align: right;\">\n",
       "      <th></th>\n",
       "      <th>accuracy</th>\n",
       "      <th>precision</th>\n",
       "      <th>recall</th>\n",
       "      <th>f1_score</th>\n",
       "    </tr>\n",
       "  </thead>\n",
       "  <tbody>\n",
       "    <tr>\n",
       "      <th>normal</th>\n",
       "      <td>0.6119</td>\n",
       "      <td>0.5269</td>\n",
       "      <td>0.9688</td>\n",
       "      <td>0.6826</td>\n",
       "    </tr>\n",
       "    <tr>\n",
       "      <th>DoS</th>\n",
       "      <td>0.7806</td>\n",
       "      <td>0.8469</td>\n",
       "      <td>0.4114</td>\n",
       "      <td>0.5538</td>\n",
       "    </tr>\n",
       "    <tr>\n",
       "      <th>Probe</th>\n",
       "      <td>0.9016</td>\n",
       "      <td>0.8633</td>\n",
       "      <td>0.0991</td>\n",
       "      <td>0.1778</td>\n",
       "    </tr>\n",
       "    <tr>\n",
       "      <th>U2R</th>\n",
       "      <td>0.997</td>\n",
       "      <td>NaN</td>\n",
       "      <td>0.0</td>\n",
       "      <td>NaN</td>\n",
       "    </tr>\n",
       "    <tr>\n",
       "      <th>R2L</th>\n",
       "      <td>0.8872</td>\n",
       "      <td>0.7166</td>\n",
       "      <td>0.1955</td>\n",
       "      <td>0.3072</td>\n",
       "    </tr>\n",
       "  </tbody>\n",
       "</table>\n",
       "</div>"
      ],
      "text/plain": [
       "       accuracy precision  recall f1_score\n",
       "normal   0.6119    0.5269  0.9688   0.6826\n",
       "DoS      0.7806    0.8469  0.4114   0.5538\n",
       "Probe    0.9016    0.8633  0.0991   0.1778\n",
       "U2R       0.997       NaN     0.0      NaN\n",
       "R2L      0.8872    0.7166  0.1955   0.3072"
      ]
     },
     "execution_count": 32,
     "metadata": {},
     "output_type": "execute_result"
    }
   ],
   "source": [
    "clf = GaussianNB()\n",
    "y_pred, gnb = sl_predict(X_all, y_all, X_test_scaler, clf)\n",
    "print(y_pred.shape)\n",
    "\n",
    "print(classification_report(y_test, y_pred, target_names=list(labels.keys())))\n",
    "plot_cm(y_test, y_pred, labels)\n",
    "\n",
    "performance = multilabel_matrix(y_test, y_pred, labels)\n",
    "performance"
   ]
  },
  {
   "cell_type": "code",
   "execution_count": 33,
   "id": "2c87e596",
   "metadata": {
    "execution": {
     "iopub.execute_input": "2021-11-03T12:51:41.850591Z",
     "iopub.status.busy": "2021-11-03T12:51:41.849486Z",
     "iopub.status.idle": "2021-11-03T12:51:41.852092Z",
     "shell.execute_reply": "2021-11-03T12:51:41.851388Z",
     "shell.execute_reply.started": "2021-11-03T12:09:53.209243Z"
    },
    "papermill": {
     "duration": 0.514451,
     "end_time": "2021-11-03T12:51:41.852237",
     "exception": false,
     "start_time": "2021-11-03T12:51:41.337786",
     "status": "completed"
    },
    "tags": []
   },
   "outputs": [],
   "source": [
    "# clf = SVC(kernel='linear')\n",
    "\n",
    "# y_pred, svc = sl_predict(X_all, y_all, X_test_scaler, clf)\n",
    "# print(y_pred.shape)\n",
    "\n",
    "# print(classification_report(y_test, y_pred, target_names=list(labels.keys())))\n",
    "# plot_cm(y_test, y_pred, labels)\n",
    "\n",
    "# performance = multilabel_matrix(y_test, y_pred, labels)\n",
    "# performance"
   ]
  },
  {
   "cell_type": "code",
   "execution_count": null,
   "id": "dd4cba98",
   "metadata": {
    "papermill": {
     "duration": 0.504068,
     "end_time": "2021-11-03T12:51:42.951563",
     "exception": false,
     "start_time": "2021-11-03T12:51:42.447495",
     "status": "completed"
    },
    "tags": []
   },
   "outputs": [],
   "source": []
  }
 ],
 "metadata": {
  "kernelspec": {
   "display_name": "Python 3",
   "language": "python",
   "name": "python3"
  },
  "language_info": {
   "codemirror_mode": {
    "name": "ipython",
    "version": 3
   },
   "file_extension": ".py",
   "mimetype": "text/x-python",
   "name": "python",
   "nbconvert_exporter": "python",
   "pygments_lexer": "ipython3",
   "version": "3.7.10"
  },
  "papermill": {
   "default_parameters": {},
   "duration": 593.227214,
   "end_time": "2021-11-03T12:51:46.153612",
   "environment_variables": {},
   "exception": null,
   "input_path": "__notebook__.ipynb",
   "output_path": "__notebook__.ipynb",
   "parameters": {},
   "start_time": "2021-11-03T12:41:52.926398",
   "version": "2.3.3"
  }
 },
 "nbformat": 4,
 "nbformat_minor": 5
}
